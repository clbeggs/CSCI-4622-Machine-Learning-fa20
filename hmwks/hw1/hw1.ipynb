{
 "cells": [
  {
   "cell_type": "markdown",
   "metadata": {},
   "source": [
    "# Homework 1: Decision tree, K-nearest neighbor, and the Bias-Variance Trade-Off\n",
    "\n",
    "\n",
    "\n",
    "This assignment is due on Moodle by **11:59pm on Friday Sep 11**.\n",
    "Your solutions to theoretical questions should be done in Markdown/MathJax\n",
    "directly below the associated question.\n",
    "Your solutions to computational questions should include any specified Python\n",
    "code and results\n",
    "as well as written commentary on your conclusions.\n",
    "Remember that you are encouraged to discuss the problems with your instructors\n",
    "and classmates,\n",
    "but **you must write all code and solutions on your own**. For a refresher on\n",
    "the course **Collaboration Policy** click\n",
    "[here](https://github.com/BoulderDS/CSCI-4622-Machine-Learning-\n",
    "fa20/blob/master/info/syllabus.md#collaboration-policy).\n",
    "\n",
    "**NOTES**:\n",
    "\n",
    "- Do **NOT** load or use any Python packages that are not available in Anaconda\n",
    "(Version: 2019.07) with Python 3.7.\n",
    "- Some problems with code may be autograded.  If we provide a function API, **do\n",
    "not** change it.  If we do not provide a function API, then you're free to\n",
    "structure your code however you like.\n",
    "- Submit only this Jupyter notebook to Moodle.  Do not compress it using tar,\n",
    "rar, zip, etc.\n",
    "\n",
    "**Acknowledgment**: Noah Smith, Chris Ketelsen\n",
    "\n",
    "**Please put your name and cuidentity key.**\n",
    "\n",
    "**Name**: Chris Beggs\n",
    "\n",
    "**Identity Key**: chbe2777"
   ]
  },
  {
   "cell_type": "code",
   "execution_count": 13,
   "metadata": {
    "attributes": {
     "classes": [],
     "id": "",
     "n": "2"
    }
   },
   "outputs": [],
   "source": [
    "import math\n",
    "import pickle\n",
    "import gzip\n",
    "import numpy as np\n",
    "import matplotlib.pylab as plt\n",
    "%matplotlib inline"
   ]
  },
  {
   "cell_type": "markdown",
   "metadata": {},
   "source": [
    "### [30 points] Problem 1 - Decision tree\n",
    "***\n",
    "\n",
    "Consider the problem of predicting whether a person has a college degree based\n",
    "on age, salary, and Colorado residency.\n",
    "The dataset looks like the following.\n",
    "\n",
    "| Age   | Salary         | Colorado Residency      | College degree|\n",
    "|:------:|:------------:| :-----------:|---:|\n",
    "| 27 | 41,000 | Yes | Yes |\n",
    "| 61 | 52,000 | No | No |\n",
    "| 23 | 24,000 | Yes | No |\n",
    "| 29 | 77,000 | Yes | Yes |\n",
    "| 32 | 48,000 | No | Yes |\n",
    "| 57 | 120,000 | Yes | Yes |\n",
    "| 22 | 38,000 | Yes | Yes |\n",
    "| 41 | 45,000 | Yes | No |\n",
    "| 53 | 26,000 | No | No |\n",
    "| 48 | 65,000 | Yes | Yes |\n",
    "\n",
    "**Part 1 [5 points]**: Convert the above table to data. Two variables should be\n",
    "created:\n",
    "\n",
    "1. $x$ is a $10*3$ matrix that contains the data from columns 0, 1, and 2.\n",
    "Colorado residency is represented by 1 (yes) and 0 (no).\n",
    "2. $y$ contains the labels (college degree), 1 (yes) and 0 (no)."
   ]
  },
  {
   "cell_type": "code",
   "execution_count": 14,
   "metadata": {
    "attributes": {
     "classes": [],
     "id": "",
     "n": "3"
    }
   },
   "outputs": [
    {
     "name": "stdout",
     "output_type": "stream",
     "text": [
      "(10, 3)\n",
      "(10,)\n"
     ]
    }
   ],
   "source": [
    " x = np.array([\n",
    " [27 , 41000 , 1], \n",
    " [61 , 52000 , 0], \n",
    " [23 , 24000 , 1], \n",
    " [29 , 77000 , 1], \n",
    " [32 , 48000 , 0], \n",
    " [57 , 120000 , 1],\n",
    " [22 , 38000 , 1], \n",
    " [41 , 45000 , 1], \n",
    " [53 , 26000 , 0], \n",
    " [48 , 65000 , 1 ]])\n",
    "\n",
    "y=np.array([1,0,0,1,1,1,1,0,0,1])\n",
    "print(x.shape)\n",
    "print(y.shape)"
   ]
  },
  {
   "cell_type": "markdown",
   "metadata": {},
   "source": [
    "**Part 2 [16 points]:** Criteria for choosing a feature to split.\n",
    "\n",
    "**[2 points]** We start with no splitting. Assuming that our algorithm is\n",
    "deterministic, what is the smallest number of mistakes we can make if we do not\n",
    "use any of the features and what is the algorithm? (**Write your answer in the\n",
    "Markdown cell below.**)\n",
    "\n",
    "The smallest number of mistakes we can make without splitting is just choosing\n",
    "the the classification with the least entries, so 4 is the smallest number of\n",
    "mistakes/\n",
    "\n",
    "**[5 points]** We start by considering the variable *Colorado residency*. The\n",
    "first criteria is based on the number of mistakes. We need to build a\n",
    "contingency table between Colorado residency and college degree.\n",
    "\n",
    "How many mistakes will we make if we split based on Colorado residency?\n",
    "(**Answer below by finishing the code.**)"
   ]
  },
  {
   "cell_type": "code",
   "execution_count": 15,
   "metadata": {
    "attributes": {
     "classes": [],
     "id": "",
     "n": "4"
    }
   },
   "outputs": [],
   "source": [
    "def get_error_in_leaf(y, ids):\n",
    "    \"\"\"\n",
    "    Returns the errors in a leaf node of a decision tree.\n",
    "    This function can be used to answer the previous question automatically.\n",
    "    \n",
    "    :@param y: all labels\n",
    "    :@param ids: the subset of indexes in the leaf node\n",
    "    \"\"\"\n",
    "    elements, count = np.unique(y[ids], return_counts=True)\n",
    "    return np.amin(count) \n",
    "\n",
    "\n",
    "def error_criteria(y, root, left_child, right_child):\n",
    "    \"\"\"\n",
    "    Returns the number of errors if we split the root into the left child and the right child.\n",
    "    \n",
    "    :@param y: all labels\n",
    "    :@param root: indexes of all the data points in the root\n",
    "    :@param left_child: the subset of indexes in the left child\n",
    "    :@param right_child: the subset of indexes in the right child\n",
    "    \"\"\"\n",
    "    return (get_error_in_leaf(y,left_child)) + (get_error_in_leaf(y,right_child)) \n",
    "def value_split_binary_feature(x, y, fid, root, criteria_func):\n",
    "    \n",
    "    root = root.tolist()\n",
    "    left_child = [i for i in root if x[i, fid] == 0]\n",
    "    right_child = [i for i in root if x[i, fid] == 1]\n",
    "    return criteria_func(y, root, left_child, right_child)\n",
    "\n",
    "# Colorado residency should correpsond to the third column in your data x\n",
    "fid = 2\n",
    "root = np.array(list(range(len(y)))) # root includes all data points\n",
    "mistakes = value_split_binary_feature(x, y, fid, root, error_criteria)"
   ]
  },
  {
   "cell_type": "code",
   "execution_count": 16,
   "metadata": {
    "attributes": {
     "classes": [],
     "id": "",
     "n": "5"
    }
   },
   "outputs": [],
   "source": [
    "# This cell is for grading purposes only; please ignore"
   ]
  },
  {
   "cell_type": "markdown",
   "metadata": {},
   "source": [
    "**[3 points]** Alternatively, we can use information gain to split the data. To\n",
    "get you familiar with MathJax, please write the equation necessary to compute\n",
    "information gain if we split data $D$ into $D_1$ and $D_2$. **Write your answer\n",
    "in the Markdown cell below.**\n",
    "\n",
    "$$IG(D) = H(D) - H(D_1) - \\frac{|D_1|}{|D|}H(D_1) - \\frac{|D_2|}{|D|}H(D_2) $$\n",
    "\n",
    "**[6 points]** Now we write a function for computing information gain. Use log2\n",
    "for entropy computation."
   ]
  },
  {
   "cell_type": "code",
   "execution_count": 17,
   "metadata": {
    "attributes": {
     "classes": [],
     "id": "",
     "n": "6"
    }
   },
   "outputs": [],
   "source": [
    "def entropy(y, ids):\n",
    "    \"\"\"\n",
    "    Returns the entropy in the labels for the data points in ids.\n",
    "    \n",
    "    :@param y: all labels\n",
    "    :@param ids: the indexes of data points\n",
    "    \"\"\"\n",
    "    if len(ids) == 0: # deal with corner case when there is no data point.\n",
    "        return 0\n",
    "    elements, counts = np.unique(y[ids], return_counts=True)\n",
    "    ids = np.array(ids)\n",
    "    \n",
    "    ent = 0.0\n",
    "    for i in range(elements.shape[0]):\n",
    "        ent -= (counts[i]/ids.shape[0] * math.log2(counts[i]/ids.shape[0]))\n",
    "    return ent\n",
    "        \n",
    "    \n",
    "def information_gain_criteria(y, root, left_child, right_child):\n",
    "    \"\"\"\n",
    "    Returns the information gain by splitting root into left child and right child.\n",
    "    \n",
    "    :@param y: all labels\n",
    "    :@param root: indexes of all the data points in the root\n",
    "    :@param left_child: the subset of indexes in the left child\n",
    "    :@param right_child: the subset of indexes in the right child\n",
    "    \"\"\"\n",
    "    info_gain = entropy(y, root)\n",
    "    info_gain -= (entropy(y,left_child) + entropy(y,right_child)) \n",
    "    return info_gain\n",
    "fid = 2\n",
    "root = np.array(list(range(len(y)))) # root includes all data points\n",
    "info_gain = value_split_binary_feature(x, y, fid, root, information_gain_criteria)    "
   ]
  },
  {
   "cell_type": "code",
   "execution_count": 18,
   "metadata": {
    "attributes": {
     "classes": [],
     "id": "",
     "n": "7"
    }
   },
   "outputs": [],
   "source": [
    "# This cell is for grading purposes only; please ignore"
   ]
  },
  {
   "cell_type": "markdown",
   "metadata": {},
   "source": [
    "**Part 3 [9 points]**: Deal with continuous features.\n",
    "\n",
    "**[6 points]** One way to deal with continuous (or ordinal) data is to define\n",
    "binary features based on thresholding of continuous features like Age and\n",
    "Salary.\n",
    "For example, you might convert ages to 0 if age is less than or equal to 50 and\n",
    "1 otherwise."
   ]
  },
  {
   "cell_type": "code",
   "execution_count": 19,
   "metadata": {
    "attributes": {
     "classes": [],
     "id": "",
     "n": "8"
    }
   },
   "outputs": [
    {
     "name": "stdout",
     "output_type": "stream",
     "text": [
      "Age Value 0.7219280948873623 Age thres 27\n",
      "salary Value 0.8812908992306927 salary thres 41000\n"
     ]
    }
   ],
   "source": [
    "def value_split_continuous_feature(x, y, fid, root, criteria_func=information_gain_criteria):\n",
    "    \"\"\"\n",
    "    Return the best value and its corresponding threshold by splitting based on a continuous feature.\n",
    "\n",
    "    :@param x: all feature values\n",
    "    :@param y: all labels\n",
    "    :@param fid: feature id to split the tree based on\n",
    "    :@param root: indexes of all the data points in the root\n",
    "    :@param criteria_func: the splitting criteria function\n",
    "    \"\"\"\n",
    "    best_value, best_thres = 0, 0\n",
    "    features = np.copy(x)\n",
    "    for i in range(len(x)):\n",
    "        split_val = x[i][fid]\n",
    "        \n",
    "        features[:,fid][features[:,fid] < split_val] = 0\n",
    "        features[:,fid][features[:,fid] >= split_val] = 1\n",
    "        \n",
    "        left_child = features[:,fid][features[:,fid] != 1 ]\n",
    "        right_child = features[:,fid][features[:,fid] == 1 ]\n",
    "        root = features[:,fid]\n",
    "         \n",
    "        curr_val = criteria_func(y, root, left_child, right_child)\n",
    "        \n",
    "        if curr_val > best_value:\n",
    "            best_value = curr_val\n",
    "            best_thres = split_val\n",
    "    \n",
    "    return best_value, best_thres\n",
    "\n",
    "root = np.array(range(len(y))) # root includes all data points\n",
    "fid = 0\n",
    "age_value, age_thres = value_split_continuous_feature(x, y, fid, root, information_gain_criteria)\n",
    "fid = 1\n",
    "salary_value, salary_thres = value_split_continuous_feature(x, y, fid, root, information_gain_criteria)\n",
    "print(\"Age Value\" , age_value , \"Age thres\" , age_thres)\n",
    "print(\"salary Value\" , salary_value , \"salary thres\" , salary_thres)"
   ]
  },
  {
   "cell_type": "code",
   "execution_count": 20,
   "metadata": {
    "attributes": {
     "classes": [],
     "id": "",
     "n": "9"
    }
   },
   "outputs": [],
   "source": [
    "# This cell is for grading purposes only; please ignore"
   ]
  },
  {
   "cell_type": "code",
   "execution_count": 21,
   "metadata": {
    "attributes": {
     "classes": [],
     "id": "",
     "n": "10"
    }
   },
   "outputs": [],
   "source": [
    "# This cell is for grading purposes only; please ignore"
   ]
  },
  {
   "cell_type": "markdown",
   "metadata": {},
   "source": [
    "**[3 points]** Based on the current information gain by splitting different\n",
    "features, if we build a decision stump (decision tree with depth 1) greedily,\n",
    "which feature should we choose? Why? **Write down your answer in the Markdown\n",
    "cell below.**\n",
    "\n",
    "We would choose Salary, since we gain more information from that split.\n",
    "\n",
    "**Extra credit [5 points]**: You now have all the ingredients to build a\n",
    "decision tree recursively. You can build a decision tree of depth two and report\n",
    "its classification error on the training data and the tree."
   ]
  },
  {
   "cell_type": "code",
   "execution_count": 22,
   "metadata": {
    "attributes": {
     "classes": [],
     "id": "",
     "n": "11"
    }
   },
   "outputs": [],
   "source": [
    "class LeafNode:\n",
    "    \"\"\"\n",
    "    Class for leaf nodes in the decision tree\n",
    "    \"\"\"\n",
    "    \n",
    "    def __init__(self, label, count, total):\n",
    "        \"\"\"\n",
    "        :@param label: label of the leaf node\n",
    "        :@param count: number of data points with class 'label' falling in this leaf\n",
    "        :@param count: number of datapoints of any label falling in this leaf\n",
    "        \"\"\"\n",
    "        self.label = label\n",
    "        self.count = count\n",
    "        self.total = total\n",
    "        \n",
    "    def predict(self, x):\n",
    "        \"\"\"\n",
    "        Return predictions for features x\n",
    "\n",
    "        :@param x: feature values\n",
    "        \"\"\"\n",
    "        # YOUR CODE HERE\n",
    "        raise NotImplementedError()\n",
    "    \n",
    "    def display(self, feat_names, out_str, depth=0):\n",
    "        \"\"\"\n",
    "        Display contents of a leaf node\n",
    "        \"\"\"\n",
    "        prefix = '\\t'*depth\n",
    "        error = 1.0 - self.count / float(self.total)\n",
    "        out_str += f'{prefix}leaf: label={self.label}, error={error} ({self.count}/{self.total} correct)\\n'\n",
    "        return out_str\n",
    "    \n",
    "class TreeNode:\n",
    "    \"\"\"\n",
    "    Class for internal (non-leaf) nodes in the decision tree\n",
    "    \"\"\"\n",
    "    def __init__(self, feat_id, feat_val):\n",
    "        \"\"\"\n",
    "        :@param feat_id: index of the feature that this node splits on\n",
    "        :@param feat_val: threshold for the feature that this node splits on\n",
    "        \"\"\"\n",
    "        self.feat_id = feat_id\n",
    "        self.feat_val = feat_val\n",
    "        self.left = None\n",
    "        self.right = None\n",
    "    \n",
    "    def split(self, x, root):\n",
    "        \"\"\"\n",
    "        Given the datapoints falling into current node, return two arrays of indices in x corresponding to the\n",
    "        left and right subtree\n",
    "        \n",
    "        :@param x: all feature values\n",
    "        :@param root: indexes of all the data points in the current node\n",
    "        \"\"\"\n",
    "        root = np.array(root)\n",
    "        # YOUR CODE HERE\n",
    "        raise NotImplementedError()\n",
    "    \n",
    "    def predict(self, x):\n",
    "        \"\"\"\n",
    "        Return an array of predictions for given 'x' for the current node\n",
    "        \n",
    "        :@param x: datapoints\n",
    "        \"\"\"\n",
    "        assert self.left is not None and self.right is not None, 'predict called before fit'\n",
    "        # YOUR CODE HERE\n",
    "        raise NotImplementedError()\n",
    "    \n",
    "    def display(self, feat_names, out_str, depth=0):\n",
    "        \"\"\"\n",
    "        Display contents of a non-leaf node\n",
    "        \"\"\"\n",
    "        prefix = '\\t'*depth\n",
    "        out_str += f'{prefix}{feat_names[self.feat_id]}\\n'\n",
    "        out_str += f'{prefix}x <= {self.feat_val}\\n'\n",
    "        out_str = self.left.display(feat_names, out_str, depth=depth+1)\n",
    "        out_str += f'{prefix}x > {self.feat_val}\\n'\n",
    "        out_str = self.right.display(feat_names, out_str, depth=depth+1)\n",
    "        return out_str\n",
    "\n",
    "class DecisionTree:\n",
    "    \"\"\"\n",
    "    Class for the decision tree\n",
    "    \"\"\"\n",
    "    def __init__(self, max_depth=1, criteria_func=information_gain_criteria, binary_feat_ids=[]):\n",
    "        \"\"\"\n",
    "        :@param max_depth: Maximum depth that a decision tree can take\n",
    "        :@param criteria_func: criteria function to split features\n",
    "        :@param binary_feat_id: list of indexes of binary features\n",
    "        \"\"\"\n",
    "        self.max_depth = max_depth\n",
    "        self.criteria_func = criteria_func\n",
    "        self.binary_feat_ids = binary_feat_ids\n",
    "        self.root = None\n",
    "        self.x = None\n",
    "        self.y = None\n",
    "        \n",
    "    def fit(self, x, y):\n",
    "        \"\"\"\n",
    "        Fit a tree to the given dataset using a helper function\n",
    "        \"\"\"\n",
    "        self.x = x\n",
    "        self.y = y\n",
    "        self.root = self.fit_helper(np.array(list(range(self.x.shape[0]))))\n",
    "    \n",
    "    def fit_helper(self, root, depth=1):\n",
    "        \"\"\"\n",
    "        Recursive helper function for fitting a decision tree\n",
    "        Returns a node (can be either LeafNode or TreeNode)\n",
    "        \n",
    "        :@param root: array of indices of datapoints which fall into the current node\n",
    "        :@param depth: current depth of the tree being built \n",
    "        \"\"\"\n",
    "        \n",
    "        \"\"\"\n",
    "        Strategy:\n",
    "        1. If current partition is pure i.e. labels corresponding to all indices in root are the same\n",
    "           OR the maximum depth has been reached, stop building the tree and return a LeafNode\n",
    "        2. If not, find out the best feature to split on along with the threshold, create a TreeNode and \n",
    "           recursively call fit_helper on the two splits (You can assume the threshold for a binary feature \n",
    "           to be 0.5). Finally, return the current node \n",
    "        \"\"\"\n",
    "        \n",
    "        # YOUR CODE HERE\n",
    "        raise NotImplementedError()\n",
    "    \n",
    "    def predict(self, x):\n",
    "        \"\"\"\n",
    "        Return predictions for a given dataset  \n",
    "        \"\"\"\n",
    "        assert self.root is not None, 'fit not yet called'\n",
    "        # YOUR CODE HERE\n",
    "        raise NotImplementedError()\n",
    "    \n",
    "    \n",
    "    def display(self, feat_names):\n",
    "        assert self.root is not None, 'fit not yet called'\n",
    "        out_str = \"\"\n",
    "        out_str = self.root.display(feat_names, out_str)\n",
    "        return out_str"
   ]
  },
  {
   "cell_type": "code",
   "execution_count": 23,
   "metadata": {
    "attributes": {
     "classes": [],
     "id": "",
     "n": "12"
    }
   },
   "outputs": [],
   "source": [
    "# This cell is for grading purposes only; please ignore\n",
    "from sklearn.tree import DecisionTreeClassifier\n",
    "from sklearn.metrics import accuracy_score\n"
   ]
  },
  {
   "cell_type": "markdown",
   "metadata": {},
   "source": [
    "### [35 points] Problem 2- KNN for Handwritten Digit Recognition\n",
    "***\n",
    "\n",
    "In this problem you'll implement a K-Nearest Neighbor framework to take an image\n",
    "of a handwritten digit and predict which digit it corresponds to.\n",
    "\n",
    "![Samples of Handwritten Digits](figs/mnist.png \"MNIST Digits\")\n",
    "\n",
    "To keep run times down we'll only consider the subset of the MNIST data set\n",
    "consisting of the digits $3, 7, 8$ and $9$.\n",
    "\n",
    "**Part A [6 points]**: Executing the following cells will load training and\n",
    "validation data and plot an example handwritten digit.  Explore the training and\n",
    "validation sets and answer the following questions:\n",
    "\n",
    "- How many pixels are in each image in the data set?\n",
    "- How many total examples are there in the training set?\n",
    "- How many total examples are there in the validation set?"
   ]
  },
  {
   "cell_type": "code",
   "execution_count": 24,
   "metadata": {
    "attributes": {
     "classes": [],
     "id": "",
     "n": "13"
    }
   },
   "outputs": [],
   "source": [
    "X_train, y_train, X_valid, y_valid = pickle.load(gzip.open(\"data/mnist21x21_3789.pklz\", \"rb\"))"
   ]
  },
  {
   "cell_type": "code",
   "execution_count": 25,
   "metadata": {
    "attributes": {
     "classes": [],
     "id": "",
     "n": "14"
    }
   },
   "outputs": [],
   "source": [
    "def view_digit(x, label=None):\n",
    "    fig = plt.figure(figsize=(3,3))\n",
    "    plt.imshow(x.reshape(21,21), cmap='gray');\n",
    "    plt.xticks([]); plt.yticks([]);\n",
    "    if label: plt.xlabel(\"true: {}\".format(label), fontsize=16)"
   ]
  },
  {
   "cell_type": "code",
   "execution_count": 26,
   "metadata": {
    "attributes": {
     "classes": [],
     "id": "",
     "n": "15"
    }
   },
   "outputs": [
    {
     "data": {
      "image/png": "[encoded data removed]",
      "text/plain": [
       "<Figure size 216x216 with 1 Axes>"
      ]
     },
     "metadata": {},
     "output_type": "display_data"
    }
   ],
   "source": [
    "training_index = 0\n",
    "view_digit(X_train[training_index], y_train[training_index])"
   ]
  },
  {
   "cell_type": "code",
   "execution_count": 27,
   "metadata": {
    "attributes": {
     "classes": [],
     "id": "",
     "n": "16"
    }
   },
   "outputs": [
    {
     "name": "stdout",
     "output_type": "stream",
     "text": [
      "N Pixels per image:  441\n",
      "N training examples:  4000\n",
      "N validation examples:  1000\n"
     ]
    }
   ],
   "source": [
    "# Write code for answering the questions in Part A and then put your answer in the Markdown cell below.\n",
    "# Make sure to set each of the variables below to the correct value. Do not rename the variables.\n",
    "N_pixels_per_img = X_train[0].shape[0]\n",
    "N_training_examples = X_train.shape[0]\n",
    "N_validation_examples = X_valid.shape[0]\n",
    "print(\"N Pixels per image: \" , N_pixels_per_img)\n",
    "print(\"N training examples: \" ,N_training_examples)\n",
    "print(\"N validation examples: \", N_validation_examples)"
   ]
  },
  {
   "cell_type": "code",
   "execution_count": 28,
   "metadata": {
    "attributes": {
     "classes": [],
     "id": "",
     "n": "17"
    }
   },
   "outputs": [],
   "source": [
    "# This cell is for grading purposes only; please ignore"
   ]
  },
  {
   "cell_type": "markdown",
   "metadata": {},
   "source": [
    "N Pixels per image:  441\n",
    "\n",
    "N training examples:  4000\n",
    "\n",
    "N validation examples:  1000"
   ]
  },
  {
   "cell_type": "code",
   "execution_count": 29,
   "metadata": {
    "attributes": {
     "classes": [],
     "id": "",
     "n": "131"
    }
   },
   "outputs": [],
   "source": [
    "class KNN:\n",
    "    \"\"\"\n",
    "    Class to store data for regression problems \n",
    "    \"\"\"\n",
    "    def __init__(self, X_train, y_train, K=5, distance_weighted=False):\n",
    "        \"\"\"\n",
    "        Creates a kNN instance\n",
    "\n",
    "        :param X_train: Training data input in 2D ndarray \n",
    "        :param y_train: Training data output in 1D ndarray \n",
    "        :param K: The number of nearest points to consider in classification\n",
    "        :param distance_weighted: Bool indicating whether to use distance weighting\n",
    "        \"\"\"\n",
    "        # Import and build the BallTree on training features \n",
    "        from sklearn.neighbors import BallTree\n",
    "        self.balltree = BallTree(X_train)\n",
    "        \n",
    "        # Cache training labels and parameter K \n",
    "        self.y_train = y_train\n",
    "        self.K = K \n",
    "        \n",
    "        # Boolean flag indicating whether to do distance weighting \n",
    "        self.distance_weighted = distance_weighted\n",
    "        \n",
    "    def majority(self, neighbor_indices, neighbor_distances=None):\n",
    "        \"\"\"\n",
    "        Given indices of nearest neighbors in training set, return the majority label. \n",
    "        Break ties by considering 1 fewer neighbor until a clear winner is found. \n",
    "\n",
    "        :param neighbor_indices: The indices of the K nearest neighbors in self.X_train \n",
    "        :param neighbor_distances: Corresponding distances from query point to K nearest neighbors. \n",
    "        \"\"\"\n",
    "        \n",
    "        \"\"\"\n",
    "        Input shapes:\n",
    "                neighbor_indices: (p,)\n",
    "                neighbor_distances: (p,)\n",
    "            Where p is the number of features\n",
    "        \n",
    "        \"\"\"\n",
    "        # Handle case where query point is of zero distance\n",
    "        if np.where(neighbor_distances == 0)[0].shape[0] > 0:\n",
    "            dist_zero_indx = np.where(neighbor_distances == 0)[0].shape[0] \n",
    "            return self.y_train[dist_zero_indx] \n",
    "        \n",
    "        dist_weights = None\n",
    "        \n",
    "        while True:\n",
    "            \n",
    "            nearest_labels = self.y_train[neighbor_indices]  # Labels of nearest vertices\n",
    "            values, counts = np.unique(nearest_labels, return_counts=True) \n",
    "            max_count = np.max(counts)\n",
    "            \n",
    "            if self.distance_weighted:\n",
    "                dist_weights = 1 / neighbor_distances\n",
    "                \n",
    "                \n",
    "                classes = []  # classes is of the shape (num_classes) x (num instances for class i)\n",
    "                \n",
    "                # Get labels of all the closest vertexes\n",
    "                for i in range(values.shape[0]):\n",
    "                    classes.append(np.where(nearest_labels == values[i])[0])\n",
    "                \n",
    "                # Create a mask for each label\n",
    "                class_masks = []\n",
    "                for i in range(values.shape[0]):\n",
    "                    cur_mask = np.ma.masked_where(nearest_labels!=values[i], nearest_labels)\n",
    "                    cur_mask = np.ma.filled(cur_mask, fill_value=0)\n",
    "                    class_masks.append(cur_mask)\n",
    "                    \n",
    "                    \n",
    "                # Replace all non masked values with one\n",
    "                for x in class_masks:\n",
    "                    x[x != 0] = 1\n",
    "                 \n",
    "                # Mask out elements we don't care about, weight by distance, then sum\n",
    "                scores = np.empty(len(classes))\n",
    "                for i in range(values.shape[0]):\n",
    "                    scores[i] = np.sum(dist_weights * class_masks[i])\n",
    "                \n",
    "                return values[np.where(scores == np.max(scores))[0][0]]\n",
    "                \n",
    "            \n",
    "            if np.where(counts == max_count)[0].shape[0] > 1:  # If there is a tie for max count\n",
    "                self.K -= 1 \n",
    "                \n",
    "                # Find the vertex index with the largest distance\n",
    "                max_neighbor_distance = np.max(neighbor_distances)\n",
    "                max_neighbor_indx = np.where(neighbor_distances == max_neighbor_distance)[0][0]\n",
    "                \n",
    "                # Remove the vertex with the largest distance, and try again.\n",
    "                neighbor_distances = np.delete(neighbor_distances, max_neighbor_indx)\n",
    "                neighbor_indices = np.delete(neighbor_indices, max_neighbor_indx)\n",
    "                \n",
    "            else:\n",
    "                # Return the max label\n",
    "                return values[np.where(counts == max_count)]\n",
    "            \n",
    "        \n",
    "        \n",
    "    def classify(self, x):\n",
    "        \"\"\"\n",
    "        Given a query point, return the predicted label \n",
    "        \n",
    "        :param x: a query point stored as an ndarray  \n",
    "        \"\"\"\n",
    "        \n",
    "        # Input is shape (p,) where p is the number of features\n",
    "        x = x.reshape(1,-1)  # balltree.query wants shape (n_samples, n_features)\n",
    "        \n",
    "        distances, indices = self.balltree.query(x, k=self.K, return_distance=True)\n",
    "        # distances and indices are of shape x.shape[:-1] + self.K\n",
    "        # x.shape[:-1] is n_samples, so they will always be of size (1, self.K)\n",
    "        \n",
    "        return self.majority(indices[0], distances[0])\n",
    "        \n",
    "    def predict(self, X):\n",
    "        \"\"\"\n",
    "        Given an ndarray of query points, return yhat, an ndarray of predictions \n",
    "\n",
    "        :param X: an (m x p) dimension ndarray of points to predict labels for \n",
    "        \"\"\"\n",
    "        \n",
    "        y_hat = np.empty(X.shape[0]) # Size (m,)\n",
    "        \n",
    "        for i in range(X.shape[0]):\n",
    "            y_hat[i] = self.classify(X[i])  # X[i].shape = (p,)\n",
    "        return y_hat\n",
    "            \n",
    "\n"
   ]
  },
  {
   "cell_type": "markdown",
   "metadata": {},
   "source": [
    "**Part B [10 points]**: Modify the class above to implement an Unweighted KNN\n",
    "classifier.  There are three methods that you need to complete:\n",
    "\n",
    "- `predict`: Given an $m \\times p$ matrix of validation data with $m$ examples\n",
    "each with $p$ features, return a length-$m$ vector of predicted labels by\n",
    "calling the `classify` function on each example.\n",
    "- `classify`: Given a single query example with $p$ features, return its\n",
    "predicted class label as an integer using KNN by calling the `majority`\n",
    "function.\n",
    "- `majority`: Given an array of indices into the training set corresponding to\n",
    "the $K$ training examples that are nearest to the query point, return the\n",
    "majority label as an integer.  If there is a tie for the majority label using\n",
    "$K$ nearest neighbors, reduce $K$ by 1 and try again.  Continue reducing $K$\n",
    "until there is a winning label.\n",
    "\n",
    "**Notes**:\n",
    "- Don't even think about implementing nearest-neighbor search or any distance\n",
    "metrics yourself.  Instead, go read the documentation for Scikit-Learn's\n",
    "[BallTree](http://scikit-\n",
    "learn.org/stable/modules/generated/sklearn.neighbors.BallTree.html) object.  You\n",
    "will find that its implemented [query](http://scikit-\n",
    "learn.org/stable/modules/generated/sklearn.neighbors.BallTree.html#sklearn.neighbors.BallTree.query)\n",
    "method can do most of the heavy lifting for you.\n",
    "- **Do not** use Scikit-Learn's KNeighborsClassifier in this problem.  We're\n",
    "implementing this ourselves.\n",
    "- You don't need to worry about the `distance_weighted` flag until **Part C**,\n",
    "but we recommend reading ahead a bit. It might be good to think about your\n",
    "implementation of **Part C** before implementing **Part B**.\n",
    "- When you think you're done, execute the following cell to run 4 unit tests\n",
    "based on the example starting on Slide 15 of the [KNN\n",
    "Lecture](https://chenhaot.com/courses/csci4622/slides/lec5.pdf)."
   ]
  },
  {
   "cell_type": "code",
   "execution_count": 30,
   "metadata": {
    "attributes": {
     "classes": [],
     "id": "",
     "n": "114"
    }
   },
   "outputs": [
    {
     "name": "stderr",
     "output_type": "stream",
     "text": [
      "test1NNclassify (tests.tests.TestUnweightedKNN) ... ok\n",
      "test2NNclassify (tests.tests.TestUnweightedKNN) ... ok\n",
      "test3NNclassify (tests.tests.TestUnweightedKNN) ... ok\n",
      "test3NNpredict (tests.tests.TestUnweightedKNN) ... ok\n",
      "\n",
      "----------------------------------------------------------------------\n",
      "Ran 4 tests in 0.004s\n",
      "\n",
      "OK\n"
     ]
    }
   ],
   "source": [
    "from tests import tests\n",
    "tests.run_test_suite('prob 2A', KNN)"
   ]
  },
  {
   "cell_type": "markdown",
   "metadata": {},
   "source": [
    "**Part C [5 points]**: Modify the `KNN` class to perform the distance-weighted\n",
    "KNN classification.\n",
    "The so-called Distance-Weighted KNN classifier assigns weights to the nearest-\n",
    "neighbor training examples proportional to the inverse-distance from the\n",
    "training example to the query point.  Classification is performed by summing the\n",
    "weights associated with each class and predicting the class with the highest\n",
    "weighted-majority vote.  Mathematically we might describe the weighted-vote for\n",
    "a class $c$ as\n",
    "\n",
    "$$\n",
    "\\textrm{Weighted-Vote}(c) = \\displaystyle\\sum_{i \\in {\\cal N}_K} I(y_i = c)\n",
    "\\times \\dfrac{1}{\\|{\\bf x}_i - {\\bf x}\\|}\n",
    "$$\n",
    "\n",
    "A word of caution: it's certainly possible that a query point could be distance\n",
    "$0$ away from some training example.  If this happens your implementation should\n",
    "handle it gracefully and return the appropriate class label.\n",
    "\n",
    "When you think you're done, execute the following cell to run three final unit\n",
    "tests corresponding to the example on Slide 21 of the [KNN\n",
    "Lecture](https://chenhaot.com/courses/csci4622/slides/lec5.pdf). Make sure that\n",
    "the changes you make in **Part C** do not affect the unit tests from **Part B**."
   ]
  },
  {
   "cell_type": "code",
   "execution_count": 31,
   "metadata": {
    "attributes": {
     "classes": [],
     "id": "",
     "n": "115"
    }
   },
   "outputs": [
    {
     "name": "stderr",
     "output_type": "stream",
     "text": [
      "test5NNclassify (tests.tests.TestWeightedKNN) ... ok\n",
      "test3NNclassify (tests.tests.TestWeightedKNN) ... ok\n",
      "test5NNpredict (tests.tests.TestWeightedKNN) ... ok\n",
      "\n",
      "----------------------------------------------------------------------\n",
      "Ran 3 tests in 0.005s\n",
      "\n",
      "OK\n"
     ]
    }
   ],
   "source": [
    "from tests import tests\n",
    "tests.run_test_suite('prob 2B', KNN)"
   ]
  },
  {
   "cell_type": "markdown",
   "metadata": {},
   "source": [
    "**Part D [7 points]**: Use your `KNN` class to perform weighted KNN on the\n",
    "validation data with $K=3$ and do the following:\n",
    "\n",
    "- **[2 points]** Create a **confusion matrix** (feel free to use the Scikit-\n",
    "Learn [confusion_matrix](http://scikit-\n",
    "learn.org/stable/modules/generated/sklearn.metrics.confusion_matrix.html)\n",
    "function)."
   ]
  },
  {
   "cell_type": "code",
   "execution_count": 32,
   "metadata": {
    "attributes": {
     "classes": [],
     "id": "",
     "n": "122"
    }
   },
   "outputs": [
    {
     "name": "stdout",
     "output_type": "stream",
     "text": [
      "[[236   2  10   2]\n",
      " [  1 244   1   4]\n",
      " [  9   0 233   8]\n",
      " [  3   3   0 244]]\n"
     ]
    }
   ],
   "source": [
    "from sklearn.metrics import confusion_matrix\n",
    "\n",
    "knn = KNN(X_train, y_train, K=3, distance_weighted=True)\n",
    "yhat_valid = knn.predict(X_valid)\n",
    "conf_matrix = confusion_matrix(y_valid, yhat_valid)\n",
    "\n",
    "print(conf_matrix)"
   ]
  },
  {
   "cell_type": "markdown",
   "metadata": {},
   "source": [
    "- **[2 points]** Based on your confusion matrix, which digits seem to get\n",
    "confused with other digits the most?\n",
    "\n",
    "3 seems to get confused as 8 the most, which makes sense\n",
    "\n",
    "\n",
    "- **[3 points]** Find one misclassified validation example and plot it with the\n",
    "`view_digit` function along with plots of its three nearest neighbors in the\n",
    "training set."
   ]
  },
  {
   "cell_type": "code",
   "execution_count": 33,
   "metadata": {},
   "outputs": [
    {
     "name": "stdout",
     "output_type": "stream",
     "text": [
      "PREDICTED CLASS: 9\n",
      "ACTAL CLASS: 8\n"
     ]
    },
    {
     "data": {
      "image/png": "[encoded data removed]",
      "text/plain": [
       "<Figure size 216x216 with 1 Axes>"
      ]
     },
     "metadata": {},
     "output_type": "display_data"
    }
   ],
   "source": [
    "for i in range(0,N_validation_examples,10):\n",
    "    y_hat = knn.predict(X_valid[i:i+10])\n",
    "    compare = (y_hat == y_valid[i:i+10])\n",
    "    incorrect = np.where(compare == False)[0]\n",
    "    if incorrect.shape[0] > 0:\n",
    "        print(\"PREDICTED CLASS:\", int(y_hat[incorrect][0]))\n",
    "        print(\"ACTAL CLASS:\", y_valid[incorrect][0])\n",
    "        view_digit(X_valid[i])\n",
    "        break"
   ]
  },
  {
   "cell_type": "markdown",
   "metadata": {},
   "source": [
    "**Part E [7 points]**: **[4 points]** Create a plot of the accuracy of both\n",
    "Unweighted and Distance-Weighted KNN on the validation set on the same set of\n",
    "axes for $K=1, 2, \\ldots, 20$ (feel free to go out to $K=30$ if your\n",
    "implementation is efficient enough to allow it)."
   ]
  },
  {
   "cell_type": "code",
   "execution_count": 34,
   "metadata": {},
   "outputs": [
    {
     "name": "stdout",
     "output_type": "stream",
     "text": [
      "START 1 \n",
      "START 2 \n",
      "FIN\n"
     ]
    },
    {
     "data": {
      "image/png": "[encoded data removed]",
      "text/plain": [
       "<Figure size 864x504 with 1 Axes>"
      ]
     },
     "metadata": {
      "needs_background": "light"
     },
     "output_type": "display_data"
    }
   ],
   "source": [
    "\n",
    "err_unweighted = []\n",
    "err_weighted = []\n",
    "print(\"START 1 \")\n",
    "for i in range(1,20):\n",
    "    knn = KNN(X_train, y_train, K=i, distance_weighted=True)\n",
    "    yhat_valid = knn.predict(X_valid)\n",
    "    compare = (yhat_valid == y_valid)\n",
    "    correct = np.where(compare == True)[0]\n",
    "    err_weighted.append(correct.shape[0]/y_train.shape[0])\n",
    "    \n",
    "print(\"START 2 \")\n",
    "for i in range(1,20):\n",
    "    knn = KNN(X_train, y_train, K=i, distance_weighted=False)\n",
    "    yhat_valid = knn.predict(X_valid)\n",
    "    compare = (yhat_valid == y_valid)\n",
    "    correct = np.where(compare == True)[0]\n",
    "    err_unweighted.append(correct.shape[0]/y_train.shape[0])\n",
    "    \n",
    "print(\"FIN\")\n",
    "acc = np.array(err_unweighted)\n",
    "wacc = np.array(err_weighted)\n",
    "allks = range(1, 20)\n",
    "\n",
    " \n",
    "fig, ax = plt.subplots(nrows=1,ncols=1,figsize=(12, 7))\n",
    "ax.plot(allks, acc, marker=\"o\", color=\"steelblue\", lw=3, label=\"unweighted\")\n",
    "ax.plot(allks, wacc, marker=\"o\", color=\"green\", lw=3, label=\"weighted\")\n",
    "ax.set_xlabel(\"number neighbors\", fontsize=16)\n",
    "ax.set_ylabel(\"accuracy\", fontsize=16)\n",
    "ax.legend(loc=\"upper right\")\n",
    "plt.xticks(range(1, 31, 2))\n",
    "ax.grid(alpha=0.25)"
   ]
  },
  {
   "cell_type": "markdown",
   "metadata": {},
   "source": [
    "**[4 points]** Based on the plot, answer the following questions:\n",
    "\n",
    "- For general $K$, does Unweighted or Weighted KNN appear to perform better?\n",
    "- Which value of $K$ attains the best accuracy on the validation set?\n",
    "\n",
    "Open questions: Why do you think this is the case? How can you explain this?\n",
    "\n",
    "- The weighted seems to work better in most cases.\n",
    "\n",
    "- The best K is 5 for both weighted and unweighted.\n",
    "\n",
    "- Because of bias-variance trade off. When K is over some threshold, this corresponds to low model complexity, high bias and low variance. But when K is very small, this corresponds to high variance, high model complexity.\n",
    "\n",
    "### [30 points] Problem 3 - Polynomial Regression  and the Bias-Variance Trade-\n",
    "Off\n",
    "***\n",
    "\n",
    "In this problem you will use polynomial regression to explore the Bias-Variance\n",
    "Trade-Off. Assume that our data comes from a model of the form\n",
    "\n",
    "$$Y = f(X) + \\epsilon ~~\\textrm{ where }~~ \\epsilon \\sim N(0,\\sigma^2)$$\n",
    "\n",
    "For our experiments we'll use $f(x) = \\sin(\\pi x)$. The following functions can\n",
    "be used to generate data from this distribution:"
   ]
  },
  {
   "cell_type": "code",
   "execution_count": 35,
   "metadata": {},
   "outputs": [],
   "source": [
    "def get_f(x):\n",
    "    \"\"\"\n",
    "    Returns sin(pi*x) for array of x values\n",
    "    \n",
    "    :@param x: ndarray of feature values\n",
    "    \"\"\"\n",
    "    return np.sin(np.pi * x)"
   ]
  },
  {
   "cell_type": "markdown",
   "metadata": {},
   "source": [
    "**Part A [6 points]**: **[3 points]** Generate a sample of size $n=20$ for\n",
    "$x$-values chosen from a uniform distribution between $0$ and $1$."
   ]
  },
  {
   "cell_type": "code",
   "execution_count": 36,
   "metadata": {},
   "outputs": [],
   "source": [
    "def get_y(x, sigma=1.0):\n",
    "    \"\"\"\n",
    "    Returns y values based on the data generation process.\n",
    "    Note the noise term.\n",
    "    \n",
    "    :@param x: ndarray of feature values\n",
    "    \"\"\"\n",
    "    return get_f(x) + (np.random.normal(loc=0, scale=sigma**2, size=x.shape[0]) % 1)\n",
    "    \n",
    "def sample(n, sigma=1.0):\n",
    "    \"\"\"Return tuples of data (x, y) that come from \n",
    "    the data generation process.\"\"\"\n",
    "    x = np.random.uniform(0, 1, size=n)\n",
    "    y = get_y(x, sigma=sigma)\n",
    "    return x, y"
   ]
  },
  {
   "cell_type": "markdown",
   "metadata": {},
   "source": [
    "**[3 points]**: Make a scatter plot of the data overlayed with the curve of the\n",
    "true function $f(x)=\\sin(\\pi x)$."
   ]
  },
  {
   "cell_type": "code",
   "execution_count": 37,
   "metadata": {},
   "outputs": [
    {
     "data": {
      "image/png": "[encoded data removed]",
      "text/plain": [
       "<Figure size 504x504 with 1 Axes>"
      ]
     },
     "metadata": {
      "needs_background": "light"
     },
     "output_type": "display_data"
    }
   ],
   "source": [
    "n = 20\n",
    "x, y = sample(n, sigma=.15)\n",
    "xplot = np.linspace(0, 1, 200)\n",
    "fplot = get_f(xplot)\n",
    "\n",
    "fig, ax = plt.subplots(nrows=1, ncols=1, figsize=(7, 7))\n",
    "plt.scatter(x=x, y=y, label=\"f(x) + \\eps\")\n",
    "plt.plot(xplot,fplot, c='red', label=\"f(x)\")\n",
    "leg = plt.legend(loc='best', shadow=True)\n",
    "leg.get_frame().set_alpha(0.4)\n",
    "plt.show()\n"
   ]
  },
  {
   "cell_type": "markdown",
   "metadata": {},
   "source": [
    "**Part B [6 points]**: **[3 points]** Next we need to create a function that can\n",
    "fit a polynomial model to training data and make predictions for unseen data.\n",
    "Complete the function `poly_predict` below to accomplish this.  Note that there\n",
    "are many ways to do this in Python.  Later this week we'll look into doing this\n",
    "with Scikit-Learn.  You're free to implement it using Scikit-Learn, but you\n",
    "might want to look into Numpy's polynomial fitting functions,\n",
    "[polyfit](https://docs.scipy.org/doc/numpy/reference/generated/numpy.polyfit.html)\n",
    "and\n",
    "[polyval](https://docs.scipy.org/doc/numpy/reference/generated/numpy.polyval.html)."
   ]
  },
  {
   "cell_type": "code",
   "execution_count": 38,
   "metadata": {},
   "outputs": [],
   "source": [
    "def poly_predict(x_train, y_train, x_valid, deg):\n",
    "    \"\"\"\n",
    "    Function to train polynomial regression model on training data\n",
    "    and then return a vector of predictions on validation data\n",
    "    \n",
    "    :@param x_train: vector of training features\n",
    "    :@param y_train: vector of training responses\n",
    "    :@param x_valid: vector of validation features to make predictions with\n",
    "    :@param deg: degree of the polynomial model \n",
    "    \"\"\"\n",
    "    coeff = np.polyfit(x=x_train, y=y_train, deg=deg)\n",
    "    fplot = np.polyval(p=coeff, x=x_valid)\n",
    "    \n",
    "    return fplot, coeff"
   ]
  },
  {
   "cell_type": "markdown",
   "metadata": {},
   "source": [
    "**[3 points]**: Demonstrate that your function is working by using it to\n",
    "generate a plot that include the true function $f(x)$, a scatter plot of your\n",
    "training data, and the curve representing your fitted model."
   ]
  },
  {
   "cell_type": "code",
   "execution_count": 39,
   "metadata": {},
   "outputs": [
    {
     "name": "stdout",
     "output_type": "stream",
     "text": [
      "Coefficients [-7.32510908  7.33984015 -0.13612989]\n"
     ]
    },
    {
     "data": {
      "image/png": "[encoded data removed]",
      "text/plain": [
       "<Figure size 504x504 with 1 Axes>"
      ]
     },
     "metadata": {
      "needs_background": "light"
     },
     "output_type": "display_data"
    }
   ],
   "source": [
    "model_plot, coeff = poly_predict(x, y, xplot, 2)\n",
    "\n",
    "\n",
    "fx = np.linspace(-0.2, 1.2, 200)\n",
    "print(\"Coefficients\", coeff)\n",
    "fig, ax = plt.subplots(nrows=1, ncols=1, figsize=(7, 7))\n",
    "plt.scatter(x=xplot, y=model_plot)\n",
    "plt.plot(fx, np.polyval(coeff, fx), c='red')\n",
    "plt.show()\n",
    "\n"
   ]
  },
  {
   "cell_type": "markdown",
   "metadata": {},
   "source": [
    "**Part C [12 points]**: Our goal now will be to make a plot of the decomposition\n",
    "of the expected validation MSE into it's constituent parts.  Recall that we\n",
    "showed in lecture that the expected test MSE can be written as\n",
    "\n",
    "$$\n",
    "\\textrm{E}\\left[\\left(y_0 - \\hat{f}(x_0) \\right)^2\\right] = \\left[~f(x_0) -\n",
    "\\textrm{E}[~\\hat{f}(x_0)~] \\right]^2\n",
    "+ \\textrm{E}\\left[ ~ \\textrm{E}[~\\hat{f}(x_0)]-\\hat{f}(x_0)~\\right]^2 +\n",
    "\\textrm{Var}(\\epsilon)\n",
    "= \\left[\\textrm{Bias}(~\\hat{f}(x_0)\\right]^2 + \\textrm{Var}(~\\hat{f}(x_0)~) +\n",
    "\\textrm{Var}(\\epsilon)\n",
    "$$\n",
    "\n",
    "where $x_0$ represents unseen validation data. We're going to run simulations to\n",
    "estimate $\\left[\\textrm{Bias}(~\\hat{f}(x_0)\\right]^2$ and\n",
    "$\\textrm{Var}(~\\hat{f}(x_0)~)$ for different polynomial models and then plot\n",
    "them against estimates of the true validation MSE. The function\n",
    "`bias_variance_study` below will help you do this.  You just need to fill in a\n",
    "few key parts.  At the end of the day, you should have a plot for each\n",
    "combination of the simulation parameters.\n",
    "\n",
    "The $\\textrm{Bias}^2$ term is given by\n",
    "\n",
    "$$\n",
    "\\left[\\textrm{Bias}(~\\hat{f}(x_0)\\right]^2 = \\left[~f(x_0) -\n",
    "\\textrm{E}[~\\hat{f}(x_0)~] \\right]^2\n",
    "$$\n",
    "\n",
    "The first term inside the square,$~f(x_0)$, is simply the true function $f$\n",
    "evaluated on the validation data.  The second term inside the square,\n",
    "$\\textrm{E}[~\\hat{f}(x_0)~]$, is the expected value of all estimated models\n",
    "evaluated on the validation data.  We can estimate this by sampling many many\n",
    "training sets, fitting models, evaluating them on many validation sets, and then\n",
    "taking the average.\n",
    "\n",
    "The next step is to estimate the $\\textrm{Variance}$.  Let's unpack it\n",
    "\n",
    "$$\n",
    "\\textrm{E}\\left[ ~ \\hat{f}(x_0) - \\textrm{E}[~\\hat{f}(x_0)]~\\right]^2\n",
    "$$\n",
    "\n",
    "Note that $\\textrm{E}[~\\hat{f}(x_0)]$ is the `mean_model` we got from the\n",
    "`squared_bias` function. The other term, $\\hat{f}(x_0)$, is a model estimated on\n",
    "a random training set, and then evaluated on the validation set.  Since we're\n",
    "wrapping this whole thing in an expectation, we're going to sample many many\n",
    "training sets, estimate $\\hat{f}(x_0)$, and then compute the mean squared\n",
    "deviation between these and the `mean_model`.\n",
    "\n",
    "You will add code to the function below to accomplish this. The plotting part is\n",
    "completed for you. Follow the instructions in the comments below to write two\n",
    "loops.\n",
    "\n",
    "In the first loop, you need to train models of different degrees on the training\n",
    "set and record their validation predictions. You also need to calculate the\n",
    "validation MSE of each model.\n",
    "\n",
    "In the second loop, you need to calculate for each degree the squared bias, the\n",
    "variance, and the mean validation MSE across all the simulations."
   ]
  },
  {
   "cell_type": "code",
   "execution_count": 40,
   "metadata": {},
   "outputs": [
    {
     "name": "stdout",
     "output_type": "stream",
     "text": [
      "Mean difference between MSE and Bias**2 + variance with sigma=0.4:  0.16000000000000003\n"
     ]
    },
    {
     "data": {
      "image/png": "[encoded data removed]",
      "text/plain": [
       "<Figure size 1152x432 with 2 Axes>"
      ]
     },
     "metadata": {
      "needs_background": "light"
     },
     "output_type": "display_data"
    }
   ],
   "source": [
    "def bias_variance_study(num_data, num_sims, train_frac=0.8, sigma=0.4, max_deg=10, random_state=1234):\n",
    "    '''\n",
    "    Function to run simulations and estimate the squared-bias, variance, and \n",
    "    validation error of polynomial regression models. \n",
    "    \n",
    "    :@param num_data: number of points in simulated data set \n",
    "    :@param num_sims: number of simulations to run \n",
    "    :@param train_frac: fraction of total data in training set\n",
    "    :@param sigma: standard deviation of noise in data \n",
    "    :@param max_deg: largest degree polynomial to analyze\n",
    "    :@param random_state: seed for random state, for reproducibility\n",
    "    '''\n",
    "    # Set random seed \n",
    "    np.random.seed(random_state)\n",
    "    \n",
    "    # array of polynomial degrees\n",
    "    degrees = range(1, max_deg + 1)\n",
    "    \n",
    "    # train/valid split sizes \n",
    "    num_train = int(np.ceil(train_frac * num_data))\n",
    "    num_valid = num_data - num_train\n",
    "    \n",
    "    # Generate grid of features and shuffle them \n",
    "    x_grid = np.linspace(-1, 1, num_data)\n",
    "    np.random.shuffle(x_grid)\n",
    "    \n",
    "    # Spit into training and validation sets \n",
    "    x_train = x_grid[:num_train]\n",
    "    x_valid = x_grid[num_train:]\n",
    "    \n",
    "    # Dictionaries for predictions and MSE measurements\n",
    "    # Keys are polynomial degree. Each prediction is column \n",
    "    # of nValid x num_sims array. Each mse is entry in vector\n",
    "    # of length num_sims \n",
    "    y_hat_valid = {deg: np.zeros((num_valid, num_sims)) for deg in degrees}\n",
    "    mses_valid = {deg: np.zeros(num_sims) for deg in degrees}\n",
    "    y_valid_arr = {deg: np.zeros((num_valid, num_sims)) for deg in degrees}\n",
    "    \n",
    "    # Loop over num_sims simulated data sets\n",
    "    for sim in range(num_sims):\n",
    "        \n",
    "        # Generate training and validation responses \n",
    "        y_train = get_y(x_train, sigma=sigma)\n",
    "        y_valid = get_y(x_valid, sigma=sigma)\n",
    "        \n",
    "        # Loop over polynomial degree. Use function from part B \n",
    "        # to fit to training set and predict on validation set.\n",
    "        # Store predictions those predictions in yHatValid[deg]\n",
    "        for i in degrees:\n",
    "            \n",
    "            y_hat_valid[i][:,sim], _ = poly_predict(x_train, y_train, x_valid, i)\n",
    "            \n",
    "            mses_valid[i][sim] = np.mean((y_valid - y_hat_valid[i][:,sim])**2) \n",
    "            y_valid_arr[i][:,sim] = y_valid\n",
    "            \n",
    "    \n",
    "    # Loop over each polynomial degree and compute squared-bias, variance, \n",
    "    # and mean MSE on validation set.  \n",
    "    bias_squared, variance, mse_valid = np.zeros(max_deg), np.zeros(max_deg), np.zeros(max_deg) \n",
    "    \n",
    "    ##################################################################################3\n",
    "    for i in degrees:\n",
    "        \n",
    "        #Mean computation\n",
    "        mean = np.mean(y_hat_valid[i], axis=1).reshape(-1,1)\n",
    "        \n",
    "        # Variance \n",
    "        # yhat is of size (N_valid , N_sims)\n",
    "        # mean is of size (N_valid , 1)\n",
    "        variance[i-1] = np.mean( (y_hat_valid[i] - mean)**2 )\n",
    "        \n",
    "        # Bias squared computation\n",
    "        # Reshape mean to be (N_valid,)\n",
    "        # get_f returns size (N_valid,)\n",
    "        #b2 = np.mean(get_f(x_valid) - mean.reshape(-1))\n",
    "        #bias_squared[j] = np.dot(b2,b2)  # Dot product since ^2\n",
    "        bias_squared[i-1] = np.mean(( get_f(x_valid) - mean.reshape(-1)))**2\n",
    "        \n",
    "        mse_valid[i-1] = bias_squared[i-1] + variance[i-1] + sigma**2\n",
    "    \n",
    "        \n",
    "        \n",
    "    \n",
    "    # Plot squared bias, variance, and validation MSE \n",
    "    fig, (ax1, ax2) = plt.subplots(nrows=1, ncols=2, figsize=(16, 6))\n",
    "    ax1.plot(degrees, bias_squared, color=\"steelblue\", lw=3, label=\"Bias**2\")\n",
    "    ax1.plot(degrees, variance, color=\"#a76c6e\", lw=3, label=\"Variance\")\n",
    "    ax1.plot(degrees, mse_valid, color=\"black\", lw=3, label=\"Valid MSE\")\n",
    "    ax1.grid(alpha=0.25)\n",
    "    ax1.set_xlabel(\"Model Complexity (Poly Degree)\", fontsize=16)\n",
    "    ax1.set_ylabel(\"Error\", fontsize=16)\n",
    "    ax1.legend(loc=\"upper left\", fontsize=12)\n",
    "    ax2.plot(degrees, bias_squared + variance, color=\"#777791\", lw=3, label=\"Bias**2 + Variance\")\n",
    "    ax2.plot(degrees, mse_valid, color=\"black\", lw=3, label=\"Valid MSE\")\n",
    "    ax2.grid(alpha=0.25)\n",
    "    ax2.set_xlabel(\"Model Complexity (Poly Degree)\", fontsize=16)\n",
    "    ax2.set_ylabel(\"Error\", fontsize=16)\n",
    "    ax2.legend(loc=\"upper left\", fontsize=12)\n",
    "    print(\"Mean difference between MSE and Bias**2 + variance with sigma={}: \".format(sigma), \n",
    "          np.mean(mse_valid-bias_squared-variance))\n",
    "    \n",
    "    # Return arrays of squared-Bias, variance, and MSE \n",
    "    return bias_squared, variance, mse_valid\n",
    "    \n",
    "        \n",
    "bias_squared, variance, mse_valid = bias_variance_study(30, 500, train_frac=0.80,\n",
    "                                                        sigma=0.4, max_deg=12,\n",
    "                                                        random_state=1241)"
   ]
  },
  {
   "cell_type": "markdown",
   "metadata": {},
   "source": [
    "**Part D [6 points]**: When everything is working, increase the size of the\n",
    "simulated data sets and the number of simulation runs for more precision in our\n",
    "approximation. (For example, `num_data=50`, `num_sims=5000`) Now we want to\n",
    "study how the standard deviation of the model noise affects our analysis. Try\n",
    "several values of $\\sigma$. Compare the mean differences between the validation\n",
    "MSE and the sum of the squared-Bias and the Variance . What do you notice?  How\n",
    "can you explain this result using the notions of Bias-Variance and Reducible and\n",
    "Irreducible error discussed in class?\n",
    "\n",
    "As variance increases, the difference between Valid MSE and bias + variance increases as well.\n",
    "\n",
    "It makes sense, as we are increasing the amount we add to bias + variance when we increase sigma, so MSE should get larger as we selecting larger sigma."
   ]
  },
  {
   "cell_type": "code",
   "execution_count": 41,
   "metadata": {},
   "outputs": [
    {
     "name": "stdout",
     "output_type": "stream",
     "text": [
      "Mean difference between MSE and Bias**2 + variance with sigma=0.9:  0.8100000000000002\n"
     ]
    },
    {
     "data": {
      "image/png": "[encoded data removed]",
      "text/plain": [
       "<Figure size 1152x432 with 2 Axes>"
      ]
     },
     "metadata": {
      "needs_background": "light"
     },
     "output_type": "display_data"
    }
   ],
   "source": [
    "bias_squared, variance, mse_valid = bias_variance_study(30, 500, train_frac=0.80,\n",
    "                                                        sigma=0.9, max_deg=15,\n",
    "                                                        random_state=1241)"
   ]
  },
  {
   "cell_type": "markdown",
   "metadata": {},
   "source": [
    "### [5 points] Problem 4: Syllabus quiz\n",
    "***\n",
    "\n",
    "Please read the [syllabus](https://github.com/BoulderDS/CSCI-4622-Machine-\n",
    "Learning-fa20/blob/master/info/syllabus.md) carefullly and finish the [Syllabus\n",
    "quiz](https://docs.google.com/forms/d/e/1FAIpQLSc02WXElDIhHrp2GY1Pf1D5qI2LVUr12a0HgVuP3unenLT1MQ/viewform?usp=pp_url).\n",
    "You do not need to answer anything here. The Markdown cell is only for grading\n",
    "convenience.\n",
    "\n",
    "YOUR ANSWER HERE\n",
    "\n",
    "### Optional survey.\n",
    "***\n",
    "\n",
    "We are always interested in your feedback. At the end of each homework, there is\n",
    "a simple anonymous feedback\n",
    "[survey](https://docs.google.com/forms/d/e/1FAIpQLScy3B9xtnkqziMjoo995YUR0pNcVw04IHgRixxaWfHUdZ1xiw/viewform?usp=pp_url)\n",
    "to solicit your feedback for how to improve the course."
   ]
  },
  {
   "cell_type": "code",
   "execution_count": null,
   "metadata": {},
   "outputs": [],
   "source": []
  },
  {
   "cell_type": "code",
   "execution_count": null,
   "metadata": {},
   "outputs": [],
   "source": []
  },
  {
   "cell_type": "code",
   "execution_count": null,
   "metadata": {},
   "outputs": [],
   "source": []
  },
  {
   "cell_type": "code",
   "execution_count": null,
   "metadata": {},
   "outputs": [],
   "source": []
  },
  {
   "cell_type": "code",
   "execution_count": null,
   "metadata": {},
   "outputs": [],
   "source": []
  }
 ],
 "metadata": {
  "kernelspec": {
   "display_name": "Python 3",
   "language": "python",
   "name": "python3"
  },
  "language_info": {
   "codemirror_mode": {
    "name": "ipython",
    "version": 3
   },
   "file_extension": ".py",
   "mimetype": "text/x-python",
   "name": "python",
   "nbconvert_exporter": "python",
   "pygments_lexer": "ipython3",
   "version": "3.7.3"
  }
 },
 "nbformat": 4,
 "nbformat_minor": 4
}
